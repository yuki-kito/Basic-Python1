{
  "nbformat": 4,
  "nbformat_minor": 0,
  "metadata": {
    "kernelspec": {
      "display_name": "Python 3",
      "language": "python",
      "name": "python3"
    },
    "language_info": {
      "codemirror_mode": {
        "name": "ipython",
        "version": 3
      },
      "file_extension": ".py",
      "mimetype": "text/x-python",
      "name": "python",
      "nbconvert_exporter": "python",
      "pygments_lexer": "ipython3",
      "version": "3.7.4"
    },
    "colab": {
      "provenance": []
    }
  },
  "cells": [
    {
      "cell_type": "markdown",
      "metadata": {
        "id": "6kB4QGKLeIzL"
      },
      "source": [
        "# Numpyの確認課題"
      ]
    },
    {
      "cell_type": "markdown",
      "metadata": {
        "id": "sEP7aksheIzO"
      },
      "source": [
        "## 必要モジュールのインポート\n",
        "\n",
        "この問題で使うモジュールをインポートします．"
      ]
    },
    {
      "cell_type": "code",
      "metadata": {
        "id": "I6jCYUepeIzP"
      },
      "source": [
        "import matplotlib.pyplot as plt\n",
        "import numpy as np\n",
        "\n",
        "np.random.seed(0)"
      ],
      "execution_count": null,
      "outputs": []
    },
    {
      "cell_type": "markdown",
      "metadata": {
        "id": "jj1GAuS8eIzQ"
      },
      "source": [
        "---"
      ]
    },
    {
      "cell_type": "markdown",
      "metadata": {
        "id": "oyOPxfX5eIzQ"
      },
      "source": [
        "### 問1. `ndarray`の生成\n",
        "\n",
        "以下の2つの`ndarray`を定義しなさい．\n",
        "- 観測値 `x`: 初項`0`，末項`5`，項数`100`の等差数列\n",
        "- ノイズ `noise`: 標準正規分布に従う`100`個の乱数"
      ]
    },
    {
      "cell_type": "code",
      "metadata": {
        "id": "IzWE5AFWeIzR"
      },
      "source": [
        "x = np.linspace(0,5,100)\n",
        "noise = np.random.randn(100)"
      ],
      "execution_count": 18,
      "outputs": []
    },
    {
      "cell_type": "markdown",
      "metadata": {
        "id": "XhdJo1x9eIzR"
      },
      "source": [
        "---"
      ]
    },
    {
      "cell_type": "markdown",
      "metadata": {
        "id": "OVCDLbNTeIzR"
      },
      "source": [
        "ここで，真の関数 $y(x) = 3 - 5x + x^2$ を定義します．"
      ]
    },
    {
      "cell_type": "code",
      "metadata": {
        "id": "8kXxx5uNeIzS"
      },
      "source": [
        "def y(x):\n",
        "    \"\"\"真の関数\"\"\"\n",
        "    return 3 - 5 * x + x ** 2"
      ],
      "execution_count": 7,
      "outputs": []
    },
    {
      "cell_type": "markdown",
      "metadata": {
        "id": "eWMGO0rpeI0W"
      },
      "source": [
        "### 問2． `ndarray`の操作\n",
        "\n",
        "問1で生成した観測値 `x` に対応する目標値 `t` を定義しなさい．\n",
        "\n",
        "目標値 $t$ は， $t = y(x) + \\epsilon$ と表されます．  ( $y$: 真の関数, $\\epsilon$: ノイズ )  \n",
        "実際の観測値にはどうしてもノイズ(観測誤差)が発生してしまいます．今回は，それを`noise`で再現します．\n",
        "\n",
        "問1で観測値を100個生成したので，それぞれに対応する目標値も100個作成する必要がありますが， `for` 文は絶対使ってはいけません．"
      ]
    },
    {
      "cell_type": "code",
      "metadata": {
        "id": "_XEkh2uneI0W"
      },
      "source": [
        "t = y(x) + noise"
      ],
      "execution_count": 14,
      "outputs": []
    },
    {
      "cell_type": "markdown",
      "metadata": {
        "id": "wSTjE9ldeI0Y"
      },
      "source": [
        "matplotlib で可視化すると以下のようなグラフになります．\n",
        "scatter → 散布図"
      ]
    },
    {
      "cell_type": "code",
      "metadata": {
        "id": "t3-ETQUveI0Y",
        "colab": {
          "base_uri": "https://localhost:8080/",
          "height": 448
        },
        "outputId": "ff21e9a7-d894-4043-a04c-357898fe94a7"
      },
      "source": [
        "import matplotlib.pyplot as plt\n",
        "plt.scatter(x, t)"
      ],
      "execution_count": 12,
      "outputs": [
        {
          "output_type": "execute_result",
          "data": {
            "text/plain": [
              "<matplotlib.collections.PathCollection at 0x7f57c50dea90>"
            ]
          },
          "metadata": {},
          "execution_count": 12
        },
        {
          "output_type": "display_data",
          "data": {
            "text/plain": [
              "<Figure size 640x480 with 1 Axes>"
            ],
            "image/png": "[encoded data removed]"
          },
          "metadata": {}
        }
      ]
    },
    {
      "cell_type": "markdown",
      "metadata": {
        "id": "uek1MdmceI0Y"
      },
      "source": [
        "---"
      ]
    },
    {
      "cell_type": "markdown",
      "metadata": {
        "id": "Rk0GlsHreI0Z"
      },
      "source": [
        "### 問3. `ndarray`の結合\n",
        "\n",
        "以下の3つの`ndarray`を垂直方向に結合した2次元配列を転置した行列 `X` を定義しなさい．\n",
        "\n",
        "- x0: 長さが `x` と同じで要素が全て1の`ndarray`\n",
        "- x1: 観測値 `x` の各要素を1乗した`ndarray`\n",
        "- x2: 観測値 `x` の各要素を2乗した`ndarray`\n",
        "\n",
        "例： $x = (1, 2, 3)$ のとき，\n",
        "\n",
        "$$\n",
        "x_0 = (1, 1, 1)\\\\\n",
        "x_1 = (1, 2, 3)\\\\\n",
        "x_2 = (1, 4, 9)\n",
        "$$\n",
        "\n",
        "だから，\n",
        "\n",
        "$$\n",
        "X = \\left(\n",
        "\\begin{array}{ccc}\n",
        "    1 & 1 & 1 \\\\\n",
        "    1 & 2 & 3 \\\\\n",
        "    1 & 4 & 9\n",
        "\\end{array}\n",
        "\\right)^T\n",
        "= \\left(\n",
        "\\begin{array}{ccc}\n",
        "    1 & 1 & 1 \\\\\n",
        "    1 & 2 & 4 \\\\\n",
        "    1 & 3 & 9\n",
        "\\end{array}\n",
        "\\right)\n",
        "$$\n",
        "\n",
        "ちなみに，機械学習では `X` のような行列を計画行列と呼びます．"
      ]
    },
    {
      "cell_type": "code",
      "metadata": {
        "id": "ad25j6rweI0Z"
      },
      "source": [
        "x0 = np.ones(len(x))\n",
        "x1 = np.array(x) ** 1\n",
        "x2 = np.array(x) ** 2 \n",
        "preX = np.array([x0,x1,x2])\n",
        "X = preX.T"
      ],
      "execution_count": 15,
      "outputs": []
    },
    {
      "cell_type": "markdown",
      "metadata": {
        "id": "vTVz_4rDeI0Z"
      },
      "source": [
        "---"
      ]
    },
    {
      "cell_type": "markdown",
      "metadata": {
        "id": "FsitQ7T9eI0Z"
      },
      "source": [
        "### 問4. 線形代数\n",
        "\n",
        "観測値 `x, t` をもとに真の関数 `y` を2次関数で回帰しなさい．\n",
        "\n",
        "任意の2次関数は $y(x) = w_0 + w_1 x + w_2 x^2$ と表すことができます．  \n",
        "なので，パラメータのベクトル $\\mathbf{w} = (w_0, w_1, w_2)$ を求めれば良いことになります．\n",
        "\n",
        "これは以下の正規方程式から求めることができます．\n",
        "\n",
        "$ \\mathbf{w} = (X^T X)^{-1} X^T \\mathbf{t} $\n",
        "\n",
        "この式の導出はdev_data勉強会で学びます．\n",
        "\n",
        "行列の積が多い場合は`np.dot`を使わない方が簡潔に書けます．"
      ]
    },
    {
      "cell_type": "code",
      "metadata": {
        "id": "0TTGiBdfeI0a"
      },
      "source": [
        "w0 = ((np.linalg.inv(X.T @ X)) @ X.T @ t)[0]\n",
        "w1 = ((np.linalg.inv(X.T @ X)) @ X.T @ t)[1]\n",
        "w2 = ((np.linalg.inv(X.T @ X)) @ X.T @ t)[2]\n",
        "\n",
        "pred_y = w0 + w1 * x + w2 * x ** 2"
      ],
      "execution_count": 16,
      "outputs": []
    },
    {
      "cell_type": "markdown",
      "metadata": {
        "id": "A3N62PQdeI0a"
      },
      "source": [
        "---"
      ]
    },
    {
      "cell_type": "markdown",
      "metadata": {
        "id": "5AB-JrCWeI0a"
      },
      "source": [
        "### 結果\n",
        "\n",
        "先ほどのグラフに真の関数(緑)と回帰曲線(赤)を重ねると以下のようになります．"
      ]
    },
    {
      "cell_type": "code",
      "metadata": {
        "id": "jmIqb9YSeI0a",
        "colab": {
          "base_uri": "https://localhost:8080/",
          "height": 448
        },
        "outputId": "ce914a15-e612-45c1-f951-fdbfec591f2d"
      },
      "source": [
        "plt.scatter(x, t)\n",
        "plt.plot(x, pred_y, linewidth=5, color=\"red\", label=\"pred\")\n",
        "plt.plot(x, y(x), linewidth=5, color=\"green\", label=\"true\")\n",
        "plt.legend()"
      ],
      "execution_count": 17,
      "outputs": [
        {
          "output_type": "execute_result",
          "data": {
            "text/plain": [
              "<matplotlib.legend.Legend at 0x7f57c504f520>"
            ]
          },
          "metadata": {},
          "execution_count": 17
        },
        {
          "output_type": "display_data",
          "data": {
            "text/plain": [
              "<Figure size 640x480 with 1 Axes>"
            ],
            "image/png": "[encoded data removed]"
          },
          "metadata": {}
        }
      ]
    },
    {
      "cell_type": "markdown",
      "metadata": {
        "id": "zyYubGoPeI0b"
      },
      "source": [
        "今回使った手法は 真の関数 `y` の定義を変更するとその他のコードを全く変更しなくても同様に回帰することができます．\n",
        "\n",
        "例えば以下のように変更したらその関数を回帰します．\n",
        "\n",
        "```python\n",
        "def y(x):\n",
        "    \"\"\"真の関数\"\"\"\n",
        "    return 5 * np.sin(np.pi * x / 5)\n",
        "```\n",
        "dev_data勉強会で詳しくやりますが，この回帰曲線の表現力は2次までです．\n",
        "カーブが2つ以上の曲線を回帰したい場合は問3の計画行列の列数を　`x3, x4...`　のように増やせば表現力が上がります．"
      ]
    },
    {
      "cell_type": "code",
      "metadata": {
        "id": "D2wSS_WReI0b"
      },
      "source": [],
      "execution_count": 8,
      "outputs": []
    }
  ]
}